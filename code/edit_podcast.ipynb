{
 "cells": [
  {
   "cell_type": "markdown",
   "metadata": {
    "toc": true
   },
   "source": [
    "<h1>Table of Contents<span class=\"tocSkip\"></span></h1>\n",
    "<div class=\"toc\"><ul class=\"toc-item\"><li><span><a href=\"#Edit-Podcast\" data-toc-modified-id=\"Edit-Podcast-1\">Edit Podcast</a></span><ul class=\"toc-item\"><li><span><a href=\"#Goal\" data-toc-modified-id=\"Goal-1.1\">Goal</a></span></li><li><span><a href=\"#References\" data-toc-modified-id=\"References-1.2\">References</a></span></li><li><span><a href=\"#Imports\" data-toc-modified-id=\"Imports-1.3\">Imports</a></span></li><li><span><a href=\"#Code\" data-toc-modified-id=\"Code-1.4\">Code</a></span><ul class=\"toc-item\"><li><span><a href=\"#Volume-tracks\" data-toc-modified-id=\"Volume-tracks-1.4.1\">Volume tracks</a></span></li></ul></li><li><span><a href=\"#Adjust-tracks-volume\" data-toc-modified-id=\"Adjust-tracks-volume-1.5\">Adjust tracks volume</a></span></li><li><span><a href=\"#Compose-the-program\" data-toc-modified-id=\"Compose-the-program-1.6\">Compose the program</a></span></li><li><span><a href=\"#TODO\" data-toc-modified-id=\"TODO-1.7\">TODO</a></span></li></ul></li></ul></div>"
   ]
  },
  {
   "cell_type": "markdown",
   "metadata": {},
   "source": [
    "# Edit Podcast"
   ]
  },
  {
   "cell_type": "markdown",
   "metadata": {},
   "source": [
    "## Goal"
   ]
  },
  {
   "cell_type": "markdown",
   "metadata": {},
   "source": [
    "Automatize podcast edition as much as possible"
   ]
  },
  {
   "cell_type": "markdown",
   "metadata": {},
   "source": [
    "## References"
   ]
  },
  {
   "cell_type": "markdown",
   "metadata": {},
   "source": [
    "- https://librosa.org/doc/main/generated/librosa.feature.rms.html\n",
    "- https://librosa.org/doc/main/generated/librosa.resample.html"
   ]
  },
  {
   "cell_type": "markdown",
   "metadata": {},
   "source": [
    "## Imports"
   ]
  },
  {
   "cell_type": "code",
   "execution_count": null,
   "metadata": {},
   "outputs": [],
   "source": [
    "import os\n",
    "import librosa\n",
    "import soundfile as sf\n",
    "import numpy as np\n",
    "from tqdm.auto import tqdm\n",
    "import matplotlib.pyplot as plt\n",
    "import matplotlib as mpl\n",
    "import subprocess\n",
    "\n",
    "plt.plot()\n",
    "plt.close('all')\n",
    "plt.rcParams[\"figure.figsize\"] = (30, 5)\n",
    "mpl.rcParams['lines.linewidth'] = 1\n",
    "mpl.rcParams['font.size'] = 16"
   ]
  },
  {
   "cell_type": "code",
   "execution_count": null,
   "metadata": {},
   "outputs": [],
   "source": [
    "import logging\n",
    "\n",
    "# Remove all handlers associated with the root logger\n",
    "logging.getLogger().handlers = []\n",
    "\n",
    "# Configure logging again with the desired format and level\n",
    "logging.basicConfig(level=logging.INFO,\n",
    "                    format='%(asctime)s - %(levelname)s - %(message)s',\n",
    "                    datefmt='%Y-%m-%d %H:%M:%S')"
   ]
  },
  {
   "cell_type": "markdown",
   "metadata": {},
   "source": [
    "## Code"
   ]
  },
  {
   "cell_type": "markdown",
   "metadata": {},
   "source": [
    "### Volume tracks"
   ]
  },
  {
   "cell_type": "code",
   "execution_count": null,
   "metadata": {},
   "outputs": [],
   "source": [
    "frame_length = 2048\n",
    "hop_length = 512\n",
    "target_sr = 8000\n",
    "\n",
    "def compute_gains_to_merge_audios(filepaths, target_sr=target_sr, db_goal=-20):\n",
    "    audios = load_resampled_audios(filepaths, target_sr)\n",
    "    rms_values = [librosa.feature.rms(y=y, frame_length=frame_length, hop_length=hop_length)[0] for y in tqdm(audios, desc='computing rms values')]\n",
    "    return optimize_track_gains(rms_values, db_goal)\n",
    "\n",
    "def load_resampled_audios(filepaths, target_sr):\n",
    "    audios = [librosa.load(filepath, sr=target_sr, res_type='linear')[0] for filepath in tqdm(filepaths, desc='loading audios')]\n",
    "    audios = [audio[:len(audios[0])] for audio in audios]\n",
    "    return audios"
   ]
  },
  {
   "cell_type": "code",
   "execution_count": null,
   "metadata": {},
   "outputs": [],
   "source": [
    "def optimize_track_gains(rms_values, db_goal=-20, n_runs=10, factors=[0.8, 1.25, 1.5, 2]):\n",
    "    gains = [1 for _ in rms_values]\n",
    "    visualize_tracks_with_gains(rms_values, gains)\n",
    "    merge = merge_rms(rms_values, gains)\n",
    "    best_fitness = measure_fitness(merge, db_goal)\n",
    "    print(f'Initial fitness: {best_fitness:.2f}')\n",
    "\n",
    "    for _ in tqdm(range(n_runs), desc='Optimizing track gain'):\n",
    "        for factor in factors:\n",
    "            for track_idx, _ in enumerate(rms_values):\n",
    "                new_gains = gains.copy()\n",
    "                new_gains[track_idx] *= factor\n",
    "                fitness = measure_fitness(merge_rms(rms_values, new_gains), db_goal)\n",
    "                if fitness > best_fitness:\n",
    "                    gains = new_gains\n",
    "                    best_fitness = fitness\n",
    "    print(f'Final fitness: {best_fitness:.2f}')\n",
    "    visualize_tracks_with_gains(rms_values, gains)\n",
    "    visualize_merged_energy(rms_values, gains)\n",
    "    return gains\n",
    "\n",
    "def merge_rms(rms_values, gains):\n",
    "    merge = (rms_values[0]*gains[0])**2\n",
    "    for rms, gain in zip(rms_values[1:], gains[1:]):\n",
    "        merge += (rms*gain)**2\n",
    "    return np.sqrt(merge)\n",
    "\n",
    "def measure_fitness(rms, db_goal, goal_width=2):\n",
    "    lower_bound = db_goal - goal_width\n",
    "    upper_bound = db_goal + goal_width\n",
    "    rms_db = librosa.amplitude_to_db(rms)\n",
    "    fitness = (rms_db > lower_bound) & (rms_db < upper_bound)\n",
    "    return np.mean(fitness)\n",
    "\n",
    "\n",
    "def visualize_tracks_with_gains(rms_values, gains):\n",
    "    bins = np.linspace(-50, 0, 100)\n",
    "    for idx, rms in enumerate(rms_values):\n",
    "        label = os.path.splitext(os.path.basename(filepaths[idx]))[0]\n",
    "        plt.hist(librosa.amplitude_to_db(rms*gains[idx]), bins=bins, alpha=0.5, label=label, density=True)\n",
    "    plt.hist(librosa.amplitude_to_db(merge_rms(rms_values, gains)), bins=bins, alpha=0.5, label='merge', density=True)\n",
    "    plt.grid()\n",
    "    plt.legend(loc=0)\n",
    "    plt.show()\n",
    "\n",
    "def visualize_merged_energy(rms_values, gains):\n",
    "    merge = merge_rms(rms_values, gains)\n",
    "    t = librosa.frames_to_time(range(len(merge)), sr=target_sr, hop_length=hop_length, n_fft=frame_length)\n",
    "    plt.plot(t/60, librosa.amplitude_to_db(merge))\n",
    "    plt.plot(t/60, moving_average(librosa.amplitude_to_db(merge), 100))\n",
    "    plt.title('RMS Energy')\n",
    "    plt.xlabel('Time (minutes)')\n",
    "    plt.ylabel('Energy (dB)')\n",
    "    plt.grid(axis='y')\n",
    "    plt.show()\n",
    "\n",
    "def moving_average(data, window_size):\n",
    "    weights = np.ones(window_size) / window_size\n",
    "    return np.convolve(data, weights, 'same')"
   ]
  },
  {
   "cell_type": "code",
   "execution_count": null,
   "metadata": {},
   "outputs": [],
   "source": [
    "def merge_audios_with_gains(filepaths, gains):\n",
    "    audio, sr = None, None\n",
    "    for filepath, gain in tqdm(zip(filepaths, gains), total=len(filepaths), desc='merging audios'):\n",
    "        ret = librosa.load(filepath, sr=None)\n",
    "        new_audio = ret[0]\n",
    "        if audio is None:\n",
    "            audio = new_audio*gain\n",
    "            sr = ret[1]\n",
    "        else:\n",
    "            audio[:len(new_audio)] += new_audio[:len(audio)]*gain\n",
    "    return audio, sr"
   ]
  },
  {
   "cell_type": "code",
   "execution_count": null,
   "metadata": {},
   "outputs": [],
   "source": [
    "raise"
   ]
  },
  {
   "cell_type": "markdown",
   "metadata": {},
   "source": [
    "## Adjust tracks volume"
   ]
  },
  {
   "cell_type": "markdown",
   "metadata": {},
   "source": [
    "There are many speakers in the podcast and they should have the same volume. When merging the tracks into a single one we would like to see a uniform volume level."
   ]
  },
  {
   "cell_type": "code",
   "execution_count": null,
   "metadata": {},
   "outputs": [],
   "source": [
    "filepaths = \"\"\"\n",
    "/mnt/data/other/data/TERTULia/episodios/tertulia_15_hardware/aligned_audios/gbarbadillo.wav\n",
    "/mnt/data/other/data/TERTULia/episodios/tertulia_15_hardware/aligned_audios/jgoros.wav\n",
    "/mnt/data/other/data/TERTULia/episodios/tertulia_15_hardware/aligned_audios/vgoni.wav\n",
    "\"\"\"\n",
    "filepaths = filepaths.strip().splitlines()\n",
    "print('\\n'.join(filepaths))\n",
    "gains = compute_gains_to_merge_audios(filepaths, db_goal=-30)\n",
    "print(f'Gains: {gains}')\n",
    "audio, sr = merge_audios_with_gains(filepaths, gains)\n",
    "sf.write('temp.wav', audio, sr)"
   ]
  },
  {
   "cell_type": "code",
   "execution_count": null,
   "metadata": {},
   "outputs": [],
   "source": [
    "filepaths = \"\"\"\n",
    "/mnt/data/other/data/TERTULia/episodios/tertulia_14/aligned_audios/clarriu.wav\n",
    "/mnt/data/other/data/TERTULia/episodios/tertulia_14/aligned_audios/gbarbadillo.wav\n",
    "/mnt/data/other/data/TERTULia/episodios/tertulia_14/aligned_audios/iolcoz.wav\n",
    "/mnt/data/other/data/TERTULia/episodios/tertulia_14/aligned_audios/vgoni.wav\n",
    "\"\"\"\n",
    "filepaths = filepaths.strip().splitlines()\n",
    "print('\\n'.join(filepaths))\n",
    "gains = compute_gains_to_merge_audios(filepaths, db_goal=-30)\n",
    "print(f'Gains: {gains}')\n",
    "audio, sr = merge_audios_with_gains(filepaths, gains)\n",
    "sf.write('temp.wav', audio, sr)"
   ]
  },
  {
   "cell_type": "markdown",
   "metadata": {},
   "source": [
    "## Compose the program"
   ]
  },
  {
   "cell_type": "code",
   "execution_count": null,
   "metadata": {},
   "outputs": [],
   "source": [
    "def compose_program(intro_filepath,\n",
    "                    episode_filepath,\n",
    "                    output_filepath,\n",
    "                    intro_music_filepath='/mnt/data/other/data/TERTULia/sound_library/intro_music_v5_auto.mp3',\n",
    "                    outro_music_filepath='/mnt/data/other/data/TERTULia/sound_library/outro_v5_auto.mp3',\n",
    "                    intro_music_start_duration=55,\n",
    "                    intro_music_high_duration=15,\n",
    "                    outro_music_high_duration=15,\n",
    "                    sr=48000):\n",
    "    audio = librosa.load(intro_filepath, sr=sr)[0]\n",
    "    intro_music = librosa.load(intro_music_filepath, sr=sr)[0]\n",
    "    crop_intro = intro_music_start_duration - len(audio)/sr\n",
    "    assert crop_intro > 0\n",
    "    intro_music = intro_music[int(crop_intro*sr):]\n",
    "    intro_music[:len(audio)] += audio\n",
    "\n",
    "    outro_music = librosa.load(outro_music_filepath, sr=sr)[0]\n",
    "\n",
    "    episode = librosa.load(episode_filepath, sr=sr)[0]\n",
    "    episode = np.pad(episode, (int(len(audio) + intro_music_high_duration*sr), int(outro_music_high_duration*sr)), 'constant')\n",
    "    episode[:len(intro_music)] += intro_music\n",
    "    episode[-len(outro_music):] += outro_music\n",
    "    print(f'Saving program to {output_filepath}...')\n",
    "    sf.write(output_filepath, episode, sr)"
   ]
  },
  {
   "cell_type": "code",
   "execution_count": null,
   "metadata": {},
   "outputs": [],
   "source": [
    "compose_program(intro_filepath='/mnt/data/other/data/TERTULia/episodios/tertulia_14/raw_audios/20240409-155437_alsa2.wav',\n",
    "                episode_filepath='temp.wav',\n",
    "                output_filepath='program.mp3')"
   ]
  },
  {
   "cell_type": "code",
   "execution_count": null,
   "metadata": {},
   "outputs": [],
   "source": [
    "compose_program(intro_filepath='/mnt/data/other/data/TERTULia/episodios/tertulia_15_hardware/raw_audios/intro1.m4a',\n",
    "                episode_filepath='/mnt/data/other/data/TERTULia/episodios/tertulia_15_hardware/curated_audios/part1_v1.wav',\n",
    "                output_filepath='program.mp3')"
   ]
  },
  {
   "cell_type": "markdown",
   "metadata": {},
   "source": [
    "## Create video"
   ]
  },
  {
   "cell_type": "markdown",
   "metadata": {},
   "source": [
    "We have to create a video using the audio of the program and the miniature."
   ]
  },
  {
   "cell_type": "code",
   "execution_count": 22,
   "metadata": {},
   "outputs": [],
   "source": [
    "def create_video_with_ffmpeg(audio_filepath, image_filepath, video_filepath, temp_video_duration=40):\n",
    "    # create_video_command = f'ffmpeg -loop 1 -framerate 1 -i \"{image_filepath}\" -i \"{audio_filepath}\" -c:v libx264 -preset ultrafast -tune stillimage -c:a copy -pix_fmt yuv420p -shortest -threads 12 \"{video_filepath}\"'\n",
    "    # execute_command(create_video_command)\n",
    "    short_video_filepath = 'temp.mp4'\n",
    "    command = f'ffmpeg -loop 1 -framerate 1 -i \"{image_filepath}\" -c:v libx264 -preset ultrafast -tune stillimage -t {temp_video_duration} -pix_fmt yuv420p \"{short_video_filepath}\"'\n",
    "    execute_command(command)\n",
    "    command = f'ffmpeg -stream_loop -1 -i \"{short_video_filepath}\" -i \"{audio_filepath}\" -c:v copy -c:a copy -shortest \"{video_filepath}\"'\n",
    "    execute_command(command)\n",
    "    os.remove(short_video_filepath)\n",
    "    return video_filepath\n",
    "\n",
    "\n",
    "def execute_command(command, verbose=True):\n",
    "    if verbose:\n",
    "        process = subprocess.Popen(command, shell=True, stdout=subprocess.PIPE, stderr=subprocess.STDOUT, text=True)\n",
    "\n",
    "        # Loop to print the output in real-time\n",
    "        for line in process.stdout:\n",
    "            print(line, end='')\n",
    "\n",
    "        # Wait for the process to complete\n",
    "        process.wait()\n",
    "    else:\n",
    "        logging.info(f'Running {command}')\n",
    "        os.system(command)\n",
    "        logging.info(f'Finished running')"
   ]
  },
  {
   "cell_type": "markdown",
   "metadata": {},
   "source": [
    "```\n",
    "4m54s baseline, 41M\n",
    "5m21s -tune stillimage\n",
    "4m51s -threads 12\n",
    "27s 960 instead of 1920\n",
    "4.6s create video of 10s, 393M\n",
    "15.1 create video of 6s, 72M\n",
    "5.5s create video of 20s, 212M\n",
    "7.7s create video of 40s, 126M\n",
    "```"
   ]
  },
  {
   "cell_type": "code",
   "execution_count": 23,
   "metadata": {},
   "outputs": [
    {
     "name": "stdout",
     "output_type": "stream",
     "text": [
      "ffmpeg version 4.2.2 Copyright (c) 2000-2019 the FFmpeg developers\n",
      "  built with gcc 7.3.0 (crosstool-NG 1.23.0.449-a04d0)\n",
      "  configuration: --prefix=/home/gbarbadillo/miniconda3/envs/tertulia --cc=/tmp/build/80754af9/ffmpeg_1587154242452/_build_env/bin/x86_64-conda_cos6-linux-gnu-cc --disable-doc --enable-avresample --enable-gmp --enable-hardcoded-tables --enable-libfreetype --enable-libvpx --enable-pthreads --enable-libopus --enable-postproc --enable-pic --enable-pthreads --enable-shared --enable-static --enable-version3 --enable-zlib --enable-libmp3lame --disable-nonfree --enable-gpl --enable-gnutls --disable-openssl --enable-libopenh264 --enable-libx264\n",
      "  libavutil      56. 31.100 / 56. 31.100\n",
      "  libavcodec     58. 54.100 / 58. 54.100\n",
      "  libavformat    58. 29.100 / 58. 29.100\n",
      "  libavdevice    58.  8.100 / 58.  8.100\n",
      "  libavfilter     7. 57.100 /  7. 57.100\n",
      "  libavresample   4.  0.  0 /  4.  0.  0\n",
      "  libswscale      5.  5.100 /  5.  5.100\n",
      "  libswresample   3.  5.100 /  3.  5.100\n",
      "  libpostproc    55.  5.100 / 55.  5.100\n",
      "Input #0, image2, from '/mnt/data/other/data/TERTULia/episodios/tertulia_15_hardware/miniatures/youtube_parte1_1920.jpg':\n",
      "  Duration: 00:00:01.00, start: 0.000000, bitrate: 4568 kb/s\n",
      "    Stream #0:0: Video: mjpeg (Progressive), yuvj444p(pc, bt470bg/unknown/unknown), 1920x1080 [SAR 35:35 DAR 16:9], 1 fps, 1 tbr, 1 tbn, 1 tbc\n",
      "Stream mapping:\n",
      "  Stream #0:0 -> #0:0 (mjpeg (native) -> h264 (libx264))\n",
      "Press [q] to stop, [?] for help\n",
      "[swscaler @ 0x5606ede85ec0] deprecated pixel format used, make sure you did set range correctly\n",
      "[libx264 @ 0x5606edd7b300] using SAR=1/1\n",
      "[libx264 @ 0x5606edd7b300] using cpu capabilities: MMX2 SSE2Fast SSSE3 SSE4.2 AVX FMA3 BMI2 AVX2\n",
      "[libx264 @ 0x5606edd7b300] profile Constrained Baseline, level 4.0, 4:2:0, 8-bit\n",
      "[libx264 @ 0x5606edd7b300] 264 - core 157 - H.264/MPEG-4 AVC codec - Copyleft 2003-2018 - http://www.videolan.org/x264.html - options: cabac=0 ref=1 deblock=0:-3:-3 analyse=0:0 me=dia subme=0 psy=1 psy_rd=2.00:0.70 mixed_ref=0 me_range=16 chroma_me=1 trellis=0 8x8dct=0 cqm=0 deadzone=21,11 fast_pskip=1 chroma_qp_offset=0 threads=18 lookahead_threads=3 sliced_threads=0 nr=0 decimate=1 interlaced=0 bluray_compat=0 constrained_intra=0 bframes=0 weightp=0 keyint=250 keyint_min=1 scenecut=0 intra_refresh=0 rc=crf mbtree=0 crf=51.0 qcomp=0.60 qpmin=0 qpmax=69 qpstep=4 ip_ratio=1.40 aq=0\n",
      "Output #0, mp4, to 'temp.mp4':\n",
      "  Metadata:\n",
      "    encoder         : Lavf58.29.100\n",
      "    Stream #0:0: Video: h264 (libx264) (avc1 / 0x31637661), yuv420p, 1920x1080 [SAR 1:1 DAR 16:9], q=-1--1, 1 fps, 16384 tbn, 1 tbc\n",
      "    Metadata:\n",
      "      encoder         : Lavc58.54.100 libx264\n",
      "    Side data:\n",
      "      cpb: bitrate max/min/avg: 0/0/0 buffer size: 0 vbv_delay: -1\n",
      "frame=    4 fps=0.0 q=0.0 size=       0kB time=00:00:00.00 bitrate=N/A speed=   0x    \n",
      "frame=    8 fps=6.1 q=0.0 size=       0kB time=00:00:00.00 bitrate=N/A speed=   0x    \n",
      "frame=   12 fps=6.3 q=0.0 size=       0kB time=00:00:00.00 bitrate=N/A speed=   0x    \n",
      "frame=   16 fps=6.4 q=0.0 size=       0kB time=00:00:00.00 bitrate=N/A speed=   0x    \n",
      "frame=   20 fps=6.4 q=29.0 size=       0kB time=00:00:00.00 bitrate=6295.1kbits/s speed=1.96e-05x    \n",
      "frame=   24 fps=6.5 q=29.0 size=       0kB time=00:00:04.00 bitrate=   0.1kbits/s speed=1.09x    \n",
      "frame=   28 fps=6.6 q=29.0 size=       0kB time=00:00:08.00 bitrate=   0.0kbits/s speed= 1.9x    \n",
      "frame=   32 fps=6.7 q=29.0 size=       0kB time=00:00:12.00 bitrate=   0.0kbits/s speed=2.51x    \n",
      "frame=   36 fps=6.8 q=29.0 size=       0kB time=00:00:16.00 bitrate=   0.0kbits/s speed=3.01x    \n",
      "frame=   40 fps=6.8 q=29.0 size=       0kB time=00:00:20.00 bitrate=   0.0kbits/s speed= 3.4x    \n",
      "frame=   40 fps=6.5 q=-1.0 Lsize=     250kB time=00:00:39.00 bitrate=  52.6kbits/s speed=6.31x    \n",
      "video:249kB audio:0kB subtitle:0kB other streams:0kB global headers:0kB muxing overhead: 0.389677%\n",
      "[libx264 @ 0x5606edd7b300] frame I:1     Avg QP:48.00  size: 24980\n",
      "[libx264 @ 0x5606edd7b300] frame P:39    Avg QP:30.36  size:  5892\n",
      "[libx264 @ 0x5606edd7b300] mb I  I16..4: 100.0%  0.0%  0.0%\n",
      "[libx264 @ 0x5606edd7b300] mb P  I16..4:  1.3%  0.0%  0.0%  P16..4: 10.2%  0.0%  0.0%  0.0%  0.0%    skip:88.5%\n",
      "[libx264 @ 0x5606edd7b300] coded y,uvDC,uvAC intra: 24.4% 20.1% 10.0% inter: 4.4% 2.6% 0.5%\n",
      "[libx264 @ 0x5606edd7b300] i16 v,h,dc,p: 65% 23%  9%  4%\n",
      "[libx264 @ 0x5606edd7b300] i8c dc,h,v,p: 73% 12% 14%  1%\n",
      "[libx264 @ 0x5606edd7b300] kb/s:50.95\n",
      "ffmpeg version 4.2.2 Copyright (c) 2000-2019 the FFmpeg developers\n",
      "  built with gcc 7.3.0 (crosstool-NG 1.23.0.449-a04d0)\n",
      "  configuration: --prefix=/home/gbarbadillo/miniconda3/envs/tertulia --cc=/tmp/build/80754af9/ffmpeg_1587154242452/_build_env/bin/x86_64-conda_cos6-linux-gnu-cc --disable-doc --enable-avresample --enable-gmp --enable-hardcoded-tables --enable-libfreetype --enable-libvpx --enable-pthreads --enable-libopus --enable-postproc --enable-pic --enable-pthreads --enable-shared --enable-static --enable-version3 --enable-zlib --enable-libmp3lame --disable-nonfree --enable-gpl --enable-gnutls --disable-openssl --enable-libopenh264 --enable-libx264\n",
      "  libavutil      56. 31.100 / 56. 31.100\n",
      "  libavcodec     58. 54.100 / 58. 54.100\n",
      "  libavformat    58. 29.100 / 58. 29.100\n",
      "  libavdevice    58.  8.100 / 58.  8.100\n",
      "  libavfilter     7. 57.100 /  7. 57.100\n",
      "  libavresample   4.  0.  0 /  4.  0.  0\n",
      "  libswscale      5.  5.100 /  5.  5.100\n",
      "  libswresample   3.  5.100 /  3.  5.100\n",
      "  libpostproc    55.  5.100 / 55.  5.100\n",
      "Input #0, mov,mp4,m4a,3gp,3g2,mj2, from 'temp.mp4':\n",
      "  Metadata:\n",
      "    major_brand     : isom\n",
      "    minor_version   : 512\n",
      "    compatible_brands: isomiso2avc1mp41\n",
      "    encoder         : Lavf58.29.100\n",
      "  Duration: 00:00:40.00, start: 0.000000, bitrate: 51 kb/s\n",
      "    Stream #0:0(und): Video: h264 (Constrained Baseline) (avc1 / 0x31637661), yuv420p, 1920x1080 [SAR 1:1 DAR 16:9], 51 kb/s, 1 fps, 1 tbr, 16384 tbn, 2 tbc (default)\n",
      "    Metadata:\n",
      "      handler_name    : VideoHandler\n",
      "Input #1, mp3, from 'program.mp3':\n",
      "  Duration: 00:37:38.28, start: 0.023021, bitrate: 95 kb/s\n",
      "    Stream #1:0: Audio: mp3, 48000 Hz, mono, fltp, 95 kb/s\n",
      "    Metadata:\n",
      "      encoder         : LAME3.100\n",
      "Output #0, mp4, to 'program10.mp4':\n",
      "  Metadata:\n",
      "    major_brand     : isom\n",
      "    minor_version   : 512\n",
      "    compatible_brands: isomiso2avc1mp41\n",
      "    encoder         : Lavf58.29.100\n",
      "    Stream #0:0(und): Video: h264 (Constrained Baseline) (avc1 / 0x31637661), yuv420p, 1920x1080 [SAR 1:1 DAR 16:9], q=2-31, 51 kb/s, 1 fps, 1 tbr, 16384 tbn, 16384 tbc (default)\n",
      "    Metadata:\n",
      "      handler_name    : VideoHandler\n",
      "    Stream #0:1: Audio: mp3 (mp4a / 0x6134706D), 48000 Hz, mono, fltp, 95 kb/s\n",
      "    Metadata:\n",
      "      encoder         : LAME3.100\n",
      "Stream mapping:\n",
      "  Stream #0:0 -> #0:0 (copy)\n",
      "  Stream #1:0 -> #0:1 (copy)\n",
      "Press [q] to stop, [?] for help\n",
      "frame=  844 fps=0.0 q=-1.0 size=   14848kB time=00:14:03.00 bitrate= 144.3kbits/s speed=1.69e+03x    \n",
      "frame= 1682 fps=1682 q=-1.0 size=   30208kB time=00:28:01.00 bitrate= 147.2kbits/s speed=1.68e+03x    \n",
      "frame= 2260 fps=1662 q=-1.0 Lsize=   41085kB time=00:37:39.00 bitrate= 149.0kbits/s speed=1.66e+03x    \n",
      "video:14213kB audio:26459kB subtitle:0kB other streams:0kB global headers:0kB muxing overhead: 1.015900%\n"
     ]
    },
    {
     "data": {
      "text/plain": [
       "'program10.mp4'"
      ]
     },
     "execution_count": 23,
     "metadata": {},
     "output_type": "execute_result"
    }
   ],
   "source": [
    "create_video_with_ffmpeg(\n",
    "    audio_filepath='program.mp3',\n",
    "    image_filepath='/mnt/data/other/data/TERTULia/episodios/tertulia_15_hardware/miniatures/youtube_parte1_1920.jpg',\n",
    "    #image_filepath='/mnt/data/other/data/TERTULia/episodios/tertulia_15_hardware/miniatures/youtube_parte1_960.png',\n",
    "    video_filepath='program10.mp4')"
   ]
  },
  {
   "cell_type": "markdown",
   "metadata": {},
   "source": [
    "## TODO\n",
    "\n",
    "- [x] Automatic search of gains to have a good merge audio\n",
    "- [x] Try with audio from other episodes\n",
    "- [ ] Find a correspondence between audacity dBs and this notebook dBs.\n",
    "- [x] Add a script to compose the program\n",
    "- [ ] Add a script to create the video for youtube"
   ]
  },
  {
   "cell_type": "markdown",
   "metadata": {},
   "source": []
  }
 ],
 "metadata": {
  "hide_input": false,
  "kernelspec": {
   "display_name": "Python 3 (ipykernel)",
   "language": "python",
   "name": "python3"
  },
  "language_info": {
   "codemirror_mode": {
    "name": "ipython",
    "version": 3
   },
   "file_extension": ".py",
   "mimetype": "text/x-python",
   "name": "python",
   "nbconvert_exporter": "python",
   "pygments_lexer": "ipython3",
   "version": "3.10.11"
  },
  "toc": {
   "base_numbering": 1,
   "nav_menu": {},
   "number_sections": false,
   "sideBar": true,
   "skip_h1_title": false,
   "title_cell": "Table of Contents",
   "title_sidebar": "Contents",
   "toc_cell": true,
   "toc_position": {},
   "toc_section_display": true,
   "toc_window_display": false
  }
 },
 "nbformat": 4,
 "nbformat_minor": 2
}
