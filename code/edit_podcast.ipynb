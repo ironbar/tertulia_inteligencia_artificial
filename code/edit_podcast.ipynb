{
 "cells": [
  {
   "cell_type": "markdown",
   "metadata": {
    "toc": true
   },
   "source": [
    "<h1>Table of Contents<span class=\"tocSkip\"></span></h1>\n",
    "<div class=\"toc\"><ul class=\"toc-item\"><li><span><a href=\"#Edit-Podcast\" data-toc-modified-id=\"Edit-Podcast-1\">Edit Podcast</a></span><ul class=\"toc-item\"><li><span><a href=\"#Goal\" data-toc-modified-id=\"Goal-1.1\">Goal</a></span></li><li><span><a href=\"#References\" data-toc-modified-id=\"References-1.2\">References</a></span></li><li><span><a href=\"#Imports\" data-toc-modified-id=\"Imports-1.3\">Imports</a></span></li><li><span><a href=\"#Code\" data-toc-modified-id=\"Code-1.4\">Code</a></span><ul class=\"toc-item\"><li><span><a href=\"#Volume-tracks\" data-toc-modified-id=\"Volume-tracks-1.4.1\">Volume tracks</a></span></li></ul></li><li><span><a href=\"#Adjust-tracks-volume\" data-toc-modified-id=\"Adjust-tracks-volume-1.5\">Adjust tracks volume</a></span></li><li><span><a href=\"#Compose-the-program\" data-toc-modified-id=\"Compose-the-program-1.6\">Compose the program</a></span></li><li><span><a href=\"#TODO\" data-toc-modified-id=\"TODO-1.7\">TODO</a></span></li></ul></li></ul></div>"
   ]
  },
  {
   "cell_type": "markdown",
   "metadata": {},
   "source": [
    "# Edit Podcast"
   ]
  },
  {
   "cell_type": "markdown",
   "metadata": {},
   "source": [
    "## Goal"
   ]
  },
  {
   "cell_type": "markdown",
   "metadata": {},
   "source": [
    "Automatize podcast edition as much as possible"
   ]
  },
  {
   "cell_type": "markdown",
   "metadata": {},
   "source": [
    "## References"
   ]
  },
  {
   "cell_type": "markdown",
   "metadata": {},
   "source": [
    "- https://librosa.org/doc/main/generated/librosa.feature.rms.html\n",
    "- https://librosa.org/doc/main/generated/librosa.resample.html"
   ]
  },
  {
   "cell_type": "markdown",
   "metadata": {},
   "source": [
    "## Imports"
   ]
  },
  {
   "cell_type": "code",
   "execution_count": null,
   "metadata": {},
   "outputs": [],
   "source": [
    "import os\n",
    "import librosa\n",
    "import soundfile as sf\n",
    "import numpy as np\n",
    "from tqdm.auto import tqdm\n",
    "import matplotlib.pyplot as plt\n",
    "import matplotlib as mpl\n",
    "\n",
    "plt.plot()\n",
    "plt.close('all')\n",
    "plt.rcParams[\"figure.figsize\"] = (30, 5)\n",
    "mpl.rcParams['lines.linewidth'] = 1\n",
    "mpl.rcParams['font.size'] = 16"
   ]
  },
  {
   "cell_type": "markdown",
   "metadata": {},
   "source": [
    "## Code"
   ]
  },
  {
   "cell_type": "markdown",
   "metadata": {},
   "source": [
    "### Volume tracks"
   ]
  },
  {
   "cell_type": "code",
   "execution_count": null,
   "metadata": {},
   "outputs": [],
   "source": [
    "frame_length = 2048\n",
    "hop_length = 512\n",
    "target_sr = 8000\n",
    "\n",
    "def compute_gains_to_merge_audios(filepaths, target_sr=target_sr, db_goal=-20):\n",
    "    audios = load_resampled_audios(filepaths, target_sr)\n",
    "    rms_values = [librosa.feature.rms(y=y, frame_length=frame_length, hop_length=hop_length)[0] for y in tqdm(audios, desc='computing rms values')]\n",
    "    return optimize_track_gains(rms_values, db_goal)\n",
    "\n",
    "def load_resampled_audios(filepaths, target_sr):\n",
    "    audios = [librosa.load(filepath, sr=target_sr, res_type='linear')[0] for filepath in tqdm(filepaths, desc='loading audios')]\n",
    "    audios = [audio[:len(audios[0])] for audio in audios]\n",
    "    return audios"
   ]
  },
  {
   "cell_type": "code",
   "execution_count": null,
   "metadata": {},
   "outputs": [],
   "source": [
    "def optimize_track_gains(rms_values, db_goal=-20, n_runs=10, factors=[0.8, 1.25, 1.5, 2]):\n",
    "    gains = [1 for _ in rms_values]\n",
    "    visualize_tracks_with_gains(rms_values, gains)\n",
    "    merge = merge_rms(rms_values, gains)\n",
    "    best_fitness = measure_fitness(merge, db_goal)\n",
    "    print(f'Initial fitness: {best_fitness:.2f}')\n",
    "\n",
    "    for _ in tqdm(range(n_runs), desc='Optimizing track gain'):\n",
    "        for factor in factors:\n",
    "            for track_idx, _ in enumerate(rms_values):\n",
    "                new_gains = gains.copy()\n",
    "                new_gains[track_idx] *= factor\n",
    "                fitness = measure_fitness(merge_rms(rms_values, new_gains), db_goal)\n",
    "                if fitness > best_fitness:\n",
    "                    gains = new_gains\n",
    "                    best_fitness = fitness\n",
    "    print(f'Final fitness: {best_fitness:.2f}')\n",
    "    visualize_tracks_with_gains(rms_values, gains)\n",
    "    visualize_merged_energy(rms_values, gains)\n",
    "    return gains\n",
    "\n",
    "def merge_rms(rms_values, gains):\n",
    "    merge = (rms_values[0]*gains[0])**2\n",
    "    for rms, gain in zip(rms_values[1:], gains[1:]):\n",
    "        merge += (rms*gain)**2\n",
    "    return np.sqrt(merge)\n",
    "\n",
    "def measure_fitness(rms, db_goal, goal_width=2):\n",
    "    lower_bound = db_goal - goal_width\n",
    "    upper_bound = db_goal + goal_width\n",
    "    rms_db = librosa.amplitude_to_db(rms)\n",
    "    fitness = (rms_db > lower_bound) & (rms_db < upper_bound)\n",
    "    return np.mean(fitness)\n",
    "\n",
    "\n",
    "def visualize_tracks_with_gains(rms_values, gains):\n",
    "    bins = np.linspace(-50, 0, 100)\n",
    "    for idx, rms in enumerate(rms_values):\n",
    "        label = os.path.splitext(os.path.basename(filepaths[idx]))[0]\n",
    "        plt.hist(librosa.amplitude_to_db(rms*gains[idx]), bins=bins, alpha=0.5, label=label, density=True)\n",
    "    plt.hist(librosa.amplitude_to_db(merge_rms(rms_values, gains)), bins=bins, alpha=0.5, label='merge', density=True)\n",
    "    plt.grid()\n",
    "    plt.legend(loc=0)\n",
    "    plt.show()\n",
    "\n",
    "def visualize_merged_energy(rms_values, gains):\n",
    "    merge = merge_rms(rms_values, gains)\n",
    "    t = librosa.frames_to_time(range(len(merge)), sr=target_sr, hop_length=hop_length, n_fft=frame_length)\n",
    "    plt.plot(t/60, librosa.amplitude_to_db(merge))\n",
    "    plt.plot(t/60, moving_average(librosa.amplitude_to_db(merge), 100))\n",
    "    plt.title('RMS Energy')\n",
    "    plt.xlabel('Time (minutes)')\n",
    "    plt.ylabel('Energy (dB)')\n",
    "    plt.grid(axis='y')\n",
    "    plt.show()\n",
    "\n",
    "def moving_average(data, window_size):\n",
    "    weights = np.ones(window_size) / window_size\n",
    "    return np.convolve(data, weights, 'same')"
   ]
  },
  {
   "cell_type": "code",
   "execution_count": null,
   "metadata": {},
   "outputs": [],
   "source": [
    "def merge_audios_with_gains(filepaths, gains):\n",
    "    audio, sr = None, None\n",
    "    for filepath, gain in tqdm(zip(filepaths, gains), total=len(filepaths), desc='merging audios'):\n",
    "        ret = librosa.load(filepath, sr=None)\n",
    "        new_audio = ret[0]\n",
    "        if audio is None:\n",
    "            audio = new_audio*gain\n",
    "            sr = ret[1]\n",
    "        else:\n",
    "            audio[:len(new_audio)] += new_audio[:len(audio)]*gain\n",
    "    return audio, sr"
   ]
  },
  {
   "cell_type": "code",
   "execution_count": null,
   "metadata": {},
   "outputs": [],
   "source": [
    "raise"
   ]
  },
  {
   "cell_type": "markdown",
   "metadata": {},
   "source": [
    "## Adjust tracks volume"
   ]
  },
  {
   "cell_type": "markdown",
   "metadata": {},
   "source": [
    "There are many speakers in the podcast and they should have the same volume. When merging the tracks into a single one we would like to see a uniform volume level."
   ]
  },
  {
   "cell_type": "code",
   "execution_count": null,
   "metadata": {},
   "outputs": [],
   "source": [
    "filepaths = \"\"\"\n",
    "/mnt/data/other/data/TERTULia/episodios/tertulia_15_hardware/aligned_audios/gbarbadillo.wav\n",
    "/mnt/data/other/data/TERTULia/episodios/tertulia_15_hardware/aligned_audios/jgoros.wav\n",
    "/mnt/data/other/data/TERTULia/episodios/tertulia_15_hardware/aligned_audios/vgoni.wav\n",
    "\"\"\"\n",
    "filepaths = filepaths.strip().splitlines()\n",
    "print('\\n'.join(filepaths))\n",
    "gains = compute_gains_to_merge_audios(filepaths, db_goal=-30)\n",
    "print(f'Gains: {gains}')\n",
    "audio, sr = merge_audios_with_gains(filepaths, gains)\n",
    "sf.write('temp.wav', audio, sr)"
   ]
  },
  {
   "cell_type": "code",
   "execution_count": null,
   "metadata": {},
   "outputs": [],
   "source": [
    "filepaths = \"\"\"\n",
    "/mnt/data/other/data/TERTULia/episodios/tertulia_14/aligned_audios/clarriu.wav\n",
    "/mnt/data/other/data/TERTULia/episodios/tertulia_14/aligned_audios/gbarbadillo.wav\n",
    "/mnt/data/other/data/TERTULia/episodios/tertulia_14/aligned_audios/iolcoz.wav\n",
    "/mnt/data/other/data/TERTULia/episodios/tertulia_14/aligned_audios/vgoni.wav\n",
    "\"\"\"\n",
    "filepaths = filepaths.strip().splitlines()\n",
    "print('\\n'.join(filepaths))\n",
    "gains = compute_gains_to_merge_audios(filepaths, db_goal=-30)\n",
    "print(f'Gains: {gains}')\n",
    "audio, sr = merge_audios_with_gains(filepaths, gains)\n",
    "sf.write('temp.wav', audio, sr)"
   ]
  },
  {
   "cell_type": "markdown",
   "metadata": {},
   "source": [
    "## Compose the program"
   ]
  },
  {
   "cell_type": "code",
   "execution_count": null,
   "metadata": {},
   "outputs": [],
   "source": [
    "def compose_program(intro_filepath,\n",
    "                    episode_filepath,\n",
    "                    output_filepath,\n",
    "                    intro_music_filepath='/mnt/data/other/data/TERTULia/sound_library/intro_music_v5_auto.mp3',\n",
    "                    outro_music_filepath='/mnt/data/other/data/TERTULia/sound_library/outro_v5_auto.mp3',\n",
    "                    intro_music_start_duration=55,\n",
    "                    intro_music_high_duration=15,\n",
    "                    outro_music_high_duration=15,\n",
    "                    sr=48000):\n",
    "    audio = librosa.load(intro_filepath, sr=sr)[0]\n",
    "    intro_music = librosa.load(intro_music_filepath, sr=sr)[0]\n",
    "    crop_intro = intro_music_start_duration - len(audio)/sr\n",
    "    assert crop_intro > 0\n",
    "    intro_music = intro_music[int(crop_intro*sr):]\n",
    "    intro_music[:len(audio)] += audio\n",
    "\n",
    "    outro_music = librosa.load(outro_music_filepath, sr=sr)[0]\n",
    "\n",
    "    episode = librosa.load(episode_filepath, sr=sr)[0]\n",
    "    episode = np.pad(episode, (int(len(audio) + intro_music_high_duration*sr), int(outro_music_high_duration*sr)), 'constant')\n",
    "    episode[:len(intro_music)] += intro_music\n",
    "    episode[-len(outro_music):] += outro_music\n",
    "    print(f'Saving program to {output_filepath}...')\n",
    "    sf.write(output_filepath, episode, sr)"
   ]
  },
  {
   "cell_type": "code",
   "execution_count": null,
   "metadata": {},
   "outputs": [],
   "source": [
    "compose_program(intro_filepath='/mnt/data/other/data/TERTULia/episodios/tertulia_14/raw_audios/20240409-155437_alsa2.wav',\n",
    "                episode_filepath='temp.wav',\n",
    "                output_filepath='program.mp3')"
   ]
  },
  {
   "cell_type": "code",
   "execution_count": null,
   "metadata": {},
   "outputs": [],
   "source": [
    "compose_program(intro_filepath='/mnt/data/other/data/TERTULia/episodios/tertulia_15_hardware/raw_audios/intro1.m4a',\n",
    "                episode_filepath='/mnt/data/other/data/TERTULia/episodios/tertulia_15_hardware/curated_audios/part1_v1.wav',\n",
    "                output_filepath='program.mp3')"
   ]
  },
  {
   "cell_type": "markdown",
   "metadata": {},
   "source": [
    "## Create video"
   ]
  },
  {
   "cell_type": "markdown",
   "metadata": {},
   "source": [
    "We have to create a video using the audio of the program and the miniature."
   ]
  },
  {
   "cell_type": "code",
   "execution_count": null,
   "metadata": {},
   "outputs": [],
   "source": []
  },
  {
   "cell_type": "markdown",
   "metadata": {},
   "source": [
    "## TODO\n",
    "\n",
    "- [x] Automatic search of gains to have a good merge audio\n",
    "- [x] Try with audio from other episodes\n",
    "- [ ] Find a correspondence between audacity dBs and this notebook dBs.\n",
    "- [ ] Add a script to compose the program\n",
    "- [ ] Add a script to create the video for youtube"
   ]
  },
  {
   "cell_type": "markdown",
   "metadata": {},
   "source": []
  }
 ],
 "metadata": {
  "hide_input": false,
  "kernelspec": {
   "display_name": "Python 3 (ipykernel)",
   "language": "python",
   "name": "python3"
  },
  "language_info": {
   "codemirror_mode": {
    "name": "ipython",
    "version": 3
   },
   "file_extension": ".py",
   "mimetype": "text/x-python",
   "name": "python",
   "nbconvert_exporter": "python",
   "pygments_lexer": "ipython3",
   "version": "3.10.11"
  },
  "toc": {
   "base_numbering": 1,
   "nav_menu": {},
   "number_sections": false,
   "sideBar": true,
   "skip_h1_title": false,
   "title_cell": "Table of Contents",
   "title_sidebar": "Contents",
   "toc_cell": true,
   "toc_position": {},
   "toc_section_display": true,
   "toc_window_display": false
  }
 },
 "nbformat": 4,
 "nbformat_minor": 2
}
